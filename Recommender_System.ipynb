{
  "nbformat": 4,
  "nbformat_minor": 0,
  "metadata": {
    "colab": {
      "name": "Recommender_System.ipynb",
      "version": "0.3.2",
      "provenance": [],
      "include_colab_link": true
    },
    "kernelspec": {
      "name": "python3",
      "display_name": "Python 3"
    },
    "accelerator": "GPU"
  },
  "cells": [
    {
      "cell_type": "markdown",
      "metadata": {
        "id": "view-in-github",
        "colab_type": "text"
      },
      "source": [
        "<a href=\"https://colab.research.google.com/github/Pari-singh/AmazonBeautyProduct_RecommenderSystem/blob/master/Recommender_System.ipynb\" target=\"_parent\"><img src=\"https://colab.research.google.com/assets/colab-badge.svg\" alt=\"Open In Colab\"/></a>"
      ]
    },
    {
      "metadata": {
        "id": "e2iAEcCEwhJ7",
        "colab_type": "text"
      },
      "cell_type": "markdown",
      "source": [
        "#Collaborative Filtering based recommendation"
      ]
    },
    {
      "metadata": {
        "id": "kfsgnDZbwYOb",
        "colab_type": "text"
      },
      "cell_type": "markdown",
      "source": [
        "Estimated time taken : 3 hrs approx (includes model running and rerunning time on GPU K80, personal study about the topic)"
      ]
    },
    {
      "metadata": {
        "id": "YLxK1Z_awnd_",
        "colab_type": "code",
        "colab": {}
      },
      "cell_type": "code",
      "source": [
        "from google.colab import drive\n",
        "drive.mount('/content/drive')\n",
        "cd drive/My\\ Drive/Colab\\ Notebooks"
      ],
      "execution_count": 0,
      "outputs": []
    },
    {
      "metadata": {
        "id": "plI60jb4ufsV",
        "colab_type": "text"
      },
      "cell_type": "markdown",
      "source": [
        "### Importing required files and Libraries "
      ]
    },
    {
      "metadata": {
        "id": "y2D_Zm8m0ZHA",
        "colab_type": "code",
        "colab": {}
      },
      "cell_type": "code",
      "source": [
        "from keras.preprocessing.text import Tokenizer\n",
        "from keras.preprocessing.sequence import pad_sequences\n",
        "from keras.models import Sequential\n",
        "from keras.layers import Input, Dense, Flatten, dot, concatenate, LSTM, Conv1D, MaxPooling1D, Dropout, Activation\n",
        "from keras.layers.embeddings import Embedding\n",
        "from keras.models import Model\n",
        "from keras.callbacks import ModelCheckpoint\n",
        "\n",
        "import pandas as pd\n",
        "import gzip\n",
        "import nltk, re\n",
        "import string\n",
        "import numpy as np\n",
        "import matplotlib.pyplot as plt\n",
        "\n",
        "from sklearn.model_selection import train_test_split\n",
        "from sklearn.metrics import mean_absolute_error\n",
        "import warnings\n",
        "warnings.filterwarnings('ignore')"
      ],
      "execution_count": 0,
      "outputs": []
    },
    {
      "metadata": {
        "id": "1pOHLVzguouV",
        "colab_type": "text"
      },
      "cell_type": "markdown",
      "source": [
        "### Accessing the data"
      ]
    },
    {
      "metadata": {
        "id": "eVvThClp0dEw",
        "colab_type": "code",
        "colab": {}
      },
      "cell_type": "code",
      "source": [
        "def parse(path):\n",
        "    g = gzip.open(path, 'rb')\n",
        "    for l in g:\n",
        "        yield eval(l)\n",
        "\n",
        "def getDF(path):\n",
        "    i = 0\n",
        "    df = {}\n",
        "    for d in parse(path):\n",
        "        df[i] = d\n",
        "        i += 1\n",
        "    return pd.DataFrame.from_dict(df, orient='index')\n",
        "\n",
        "ratings = getDF('reviews_Beauty_5.json.gz')\n",
        "ratings.rename(columns={'reviewerID': 'user_id', \n",
        "                        'asin': 'item_id', \n",
        "                        'reviewerName': 'user_name', \n",
        "                        'reviewText': 'review_text',\n",
        "                        'summary': 'review_summary',\n",
        "                        'overall': 'score'},\n",
        "               inplace=True)\n",
        "\n",
        "ratings['user_emb_id'] = ratings.user_id.astype('category').cat.codes.values\n",
        "ratings['item_emb_id'] = ratings.item_id.astype('category').cat.codes.values"
      ],
      "execution_count": 0,
      "outputs": []
    },
    {
      "metadata": {
        "id": "WcDTndVy-UwS",
        "colab_type": "code",
        "colab": {
          "base_uri": "https://localhost:8080/",
          "height": 281
        },
        "outputId": "f255bf51-64ea-4a77-8aee-a1c13c01b5b5"
      },
      "cell_type": "code",
      "source": [
        "ratings.sample(5)"
      ],
      "execution_count": 58,
      "outputs": [
        {
          "output_type": "execute_result",
          "data": {
            "text/html": [
              "<div>\n",
              "<style scoped>\n",
              "    .dataframe tbody tr th:only-of-type {\n",
              "        vertical-align: middle;\n",
              "    }\n",
              "\n",
              "    .dataframe tbody tr th {\n",
              "        vertical-align: top;\n",
              "    }\n",
              "\n",
              "    .dataframe thead th {\n",
              "        text-align: right;\n",
              "    }\n",
              "</style>\n",
              "<table border=\"1\" class=\"dataframe\">\n",
              "  <thead>\n",
              "    <tr style=\"text-align: right;\">\n",
              "      <th></th>\n",
              "      <th>user_id</th>\n",
              "      <th>item_id</th>\n",
              "      <th>user_name</th>\n",
              "      <th>helpful</th>\n",
              "      <th>review_text</th>\n",
              "      <th>score</th>\n",
              "      <th>review_summary</th>\n",
              "      <th>unixReviewTime</th>\n",
              "      <th>reviewTime</th>\n",
              "      <th>user_emb_id</th>\n",
              "      <th>item_emb_id</th>\n",
              "    </tr>\n",
              "  </thead>\n",
              "  <tbody>\n",
              "    <tr>\n",
              "      <th>19669</th>\n",
              "      <td>A12FDPTQO9FVOZ</td>\n",
              "      <td>B000FH4T3M</td>\n",
              "      <td>Leelee Sheed</td>\n",
              "      <td>[0, 1]</td>\n",
              "      <td>The Neutrogena cleared up my acne tremendously...</td>\n",
              "      <td>5.0</td>\n",
              "      <td>Neutrogena treatment pads cleared up my acne</td>\n",
              "      <td>1380499200</td>\n",
              "      <td>09 30, 2013</td>\n",
              "      <td>403</td>\n",
              "      <td>1281</td>\n",
              "    </tr>\n",
              "    <tr>\n",
              "      <th>62994</th>\n",
              "      <td>A321S4J213I7E4</td>\n",
              "      <td>B001OVQSJG</td>\n",
              "      <td>Shanena</td>\n",
              "      <td>[0, 2]</td>\n",
              "      <td>I had issues with my scalp, it was actually &amp;#...</td>\n",
              "      <td>4.0</td>\n",
              "      <td>summary</td>\n",
              "      <td>1353888000</td>\n",
              "      <td>11 26, 2012</td>\n",
              "      <td>12185</td>\n",
              "      <td>4276</td>\n",
              "    </tr>\n",
              "    <tr>\n",
              "      <th>79124</th>\n",
              "      <td>A2QAO2M9U9OH9</td>\n",
              "      <td>B002UEF3OM</td>\n",
              "      <td>awilda sotomayor</td>\n",
              "      <td>[0, 0]</td>\n",
              "      <td>Lite Minty Green pastel color. First coat (str...</td>\n",
              "      <td>4.0</td>\n",
              "      <td>Essie Mint Candy Apple</td>\n",
              "      <td>1391385600</td>\n",
              "      <td>02 3, 2014</td>\n",
              "      <td>10268</td>\n",
              "      <td>5314</td>\n",
              "    </tr>\n",
              "    <tr>\n",
              "      <th>73382</th>\n",
              "      <td>AX51LQ35FS86N</td>\n",
              "      <td>B002L6M068</td>\n",
              "      <td>Priscilla Mendez</td>\n",
              "      <td>[0, 0]</td>\n",
              "      <td>Love it! Maybelline is amazing and all its pro...</td>\n",
              "      <td>5.0</td>\n",
              "      <td>Show me the Bronzers!!</td>\n",
              "      <td>1388620800</td>\n",
              "      <td>01 2, 2014</td>\n",
              "      <td>21908</td>\n",
              "      <td>5028</td>\n",
              "    </tr>\n",
              "    <tr>\n",
              "      <th>185327</th>\n",
              "      <td>A2S4TW2PR2FTWO</td>\n",
              "      <td>B00FEMQUKS</td>\n",
              "      <td>CCReviews</td>\n",
              "      <td>[0, 0]</td>\n",
              "      <td>I can't say that I &amp;#34;love it&amp;#34; yet, beca...</td>\n",
              "      <td>4.0</td>\n",
              "      <td>No tingling, nice minty smell.</td>\n",
              "      <td>1404777600</td>\n",
              "      <td>07 8, 2014</td>\n",
              "      <td>10563</td>\n",
              "      <td>11601</td>\n",
              "    </tr>\n",
              "  </tbody>\n",
              "</table>\n",
              "</div>"
            ],
            "text/plain": [
              "               user_id     item_id         user_name helpful  \\\n",
              "19669   A12FDPTQO9FVOZ  B000FH4T3M      Leelee Sheed  [0, 1]   \n",
              "62994   A321S4J213I7E4  B001OVQSJG           Shanena  [0, 2]   \n",
              "79124    A2QAO2M9U9OH9  B002UEF3OM  awilda sotomayor  [0, 0]   \n",
              "73382    AX51LQ35FS86N  B002L6M068  Priscilla Mendez  [0, 0]   \n",
              "185327  A2S4TW2PR2FTWO  B00FEMQUKS         CCReviews  [0, 0]   \n",
              "\n",
              "                                              review_text  score  \\\n",
              "19669   The Neutrogena cleared up my acne tremendously...    5.0   \n",
              "62994   I had issues with my scalp, it was actually &#...    4.0   \n",
              "79124   Lite Minty Green pastel color. First coat (str...    4.0   \n",
              "73382   Love it! Maybelline is amazing and all its pro...    5.0   \n",
              "185327  I can't say that I &#34;love it&#34; yet, beca...    4.0   \n",
              "\n",
              "                                      review_summary  unixReviewTime  \\\n",
              "19669   Neutrogena treatment pads cleared up my acne      1380499200   \n",
              "62994                                        summary      1353888000   \n",
              "79124                         Essie Mint Candy Apple      1391385600   \n",
              "73382                         Show me the Bronzers!!      1388620800   \n",
              "185327                No tingling, nice minty smell.      1404777600   \n",
              "\n",
              "         reviewTime  user_emb_id  item_emb_id  \n",
              "19669   09 30, 2013          403         1281  \n",
              "62994   11 26, 2012        12185         4276  \n",
              "79124    02 3, 2014        10268         5314  \n",
              "73382    01 2, 2014        21908         5028  \n",
              "185327   07 8, 2014        10563        11601  "
            ]
          },
          "metadata": {
            "tags": []
          },
          "execution_count": 58
        }
      ]
    },
    {
      "metadata": {
        "id": "7zOm_gGG0hd8",
        "colab_type": "code",
        "colab": {
          "base_uri": "https://localhost:8080/",
          "height": 34
        },
        "outputId": "dcb89734-8368-4e5d-f891-d6b18af1fd5e"
      },
      "cell_type": "code",
      "source": [
        "len(ratings['user_emb_id']), len(ratings['user_emb_id'].unique()), len(ratings['item_emb_id']), len(ratings['item_emb_id'].unique())"
      ],
      "execution_count": 12,
      "outputs": [
        {
          "output_type": "execute_result",
          "data": {
            "text/plain": [
              "(198502, 22363, 198502, 12101)"
            ]
          },
          "metadata": {
            "tags": []
          },
          "execution_count": 12
        }
      ]
    },
    {
      "metadata": {
        "id": "h2XgzTdYu_lZ",
        "colab_type": "text"
      },
      "cell_type": "markdown",
      "source": [
        "### Splitting and sorting the data"
      ]
    },
    {
      "metadata": {
        "id": "dey0Ft4bDkEn",
        "colab_type": "code",
        "colab": {}
      },
      "cell_type": "code",
      "source": [
        "ratings_train, ratings_test = train_test_split(ratings, test_size=0.2, random_state=0)\n",
        "\n",
        "user_id_train = ratings_train['user_emb_id']\n",
        "item_id_train = ratings_train['item_emb_id']\n",
        "score_train = ratings_train['score']\n",
        "\n",
        "user_id_test = ratings_test['user_emb_id']\n",
        "item_id_test = ratings_test['item_emb_id']\n",
        "score_test = ratings_test['score']\n",
        "\n",
        "\n",
        "max_user_id = ratings['user_emb_id'].max()\n",
        "max_item_id = ratings['item_emb_id'].max()\n",
        "\n",
        "user_id_input = Input(shape=[1], name='user')\n",
        "item_id_input = Input(shape=[1], name='item')"
      ],
      "execution_count": 0,
      "outputs": []
    },
    {
      "metadata": {
        "id": "oMsLrNhNvK3Q",
        "colab_type": "text"
      },
      "cell_type": "markdown",
      "source": [
        "### The first basic model for Collaborative Filtering"
      ]
    },
    {
      "metadata": {
        "id": "tRuHCVgnEBhR",
        "colab_type": "code",
        "colab": {}
      },
      "cell_type": "code",
      "source": [
        "user_embedding = Embedding(output_dim=100, input_dim= max_user_id + 1,\n",
        "                           input_length=1, name='user_embedding')(user_id_input)\n",
        "item_embedding = Embedding(output_dim=100, input_dim=max_item_id + 1,\n",
        "                           input_length=1, name='item_embedding')(item_id_input)\n",
        "\n",
        "\n",
        "user_vecs = Flatten()(user_embedding)\n",
        "item_vecs = Flatten()(item_embedding)\n",
        "\n",
        "y = dot([user_vecs, item_vecs], axes=1)\n",
        "\n",
        "model = Model(inputs=[user_id_input, item_id_input], outputs=[y])\n",
        "model.compile(optimizer='adam', metrics=['accuracy'], loss = 'mae')"
      ],
      "execution_count": 0,
      "outputs": []
    },
    {
      "metadata": {
        "id": "U0jsVkmqHsp3",
        "colab_type": "code",
        "colab": {
          "base_uri": "https://localhost:8080/",
          "height": 481
        },
        "outputId": "3038e35d-ea18-418f-df4d-228c5c1ca813"
      },
      "cell_type": "code",
      "source": [
        "model.fit([user_id_train, item_id_train], score_train, batch_size=64, epochs=10, validation_split=0.2)"
      ],
      "execution_count": 18,
      "outputs": [
        {
          "output_type": "stream",
          "text": [
            "WARNING:tensorflow:From /usr/local/lib/python3.6/dist-packages/tensorflow/python/ops/math_ops.py:3066: to_int32 (from tensorflow.python.ops.math_ops) is deprecated and will be removed in a future version.\n",
            "Instructions for updating:\n",
            "Use tf.cast instead.\n",
            "Train on 127040 samples, validate on 31761 samples\n",
            "Epoch 1/10\n",
            "127040/127040 [==============================] - 18s 143us/step - loss: 4.1653 - acc: 3.1486e-04 - val_loss: 4.0467 - val_acc: 0.0034\n",
            "Epoch 2/10\n",
            "127040/127040 [==============================] - 16s 129us/step - loss: 3.5384 - acc: 0.0372 - val_loss: 3.3967 - val_acc: 0.0663\n",
            "Epoch 3/10\n",
            "127040/127040 [==============================] - 17s 130us/step - loss: 2.5375 - acc: 0.1386 - val_loss: 2.8508 - val_acc: 0.1144\n",
            "Epoch 4/10\n",
            "127040/127040 [==============================] - 16s 130us/step - loss: 1.6027 - acc: 0.2250 - val_loss: 2.4616 - val_acc: 0.1341\n",
            "Epoch 5/10\n",
            "127040/127040 [==============================] - 16s 128us/step - loss: 0.9731 - acc: 0.3613 - val_loss: 2.2866 - val_acc: 0.1437\n",
            "Epoch 6/10\n",
            "127040/127040 [==============================] - 16s 126us/step - loss: 0.6353 - acc: 0.5107 - val_loss: 2.2287 - val_acc: 0.1445\n",
            "Epoch 7/10\n",
            "127040/127040 [==============================] - 16s 126us/step - loss: 0.4725 - acc: 0.6273 - val_loss: 2.2114 - val_acc: 0.1420\n",
            "Epoch 8/10\n",
            "127040/127040 [==============================] - 16s 128us/step - loss: 0.4026 - acc: 0.6876 - val_loss: 2.2045 - val_acc: 0.1422\n",
            "Epoch 9/10\n",
            "127040/127040 [==============================] - 16s 126us/step - loss: 0.3731 - acc: 0.7180 - val_loss: 2.1959 - val_acc: 0.1410\n",
            "Epoch 10/10\n",
            "127040/127040 [==============================] - 16s 125us/step - loss: 0.3596 - acc: 0.7339 - val_loss: 2.1885 - val_acc: 0.1420\n"
          ],
          "name": "stdout"
        },
        {
          "output_type": "execute_result",
          "data": {
            "text/plain": [
              "<keras.callbacks.History at 0x7fc794320ac8>"
            ]
          },
          "metadata": {
            "tags": []
          },
          "execution_count": 18
        }
      ]
    },
    {
      "metadata": {
        "id": "gxDc8wklvU5M",
        "colab_type": "text"
      },
      "cell_type": "markdown",
      "source": [
        "### Testing the error on test data"
      ]
    },
    {
      "metadata": {
        "id": "6raijH7RKn9r",
        "colab_type": "code",
        "colab": {
          "base_uri": "https://localhost:8080/",
          "height": 34
        },
        "outputId": "2105d835-a124-4943-ce28-9abb231565c7"
      },
      "cell_type": "code",
      "source": [
        "from sklearn.metrics import mean_absolute_error\n",
        "predicted = model.predict([user_id_test, item_id_test]).squeeze() \n",
        "mae = mean_absolute_error(predicted, score_test)\n",
        "print(\"Final test MAE: %0.3f\" % mae)"
      ],
      "execution_count": 20,
      "outputs": [
        {
          "output_type": "stream",
          "text": [
            "Final test MAE: 2.185\n"
          ],
          "name": "stdout"
        }
      ]
    },
    {
      "metadata": {
        "id": "M1Z_ILmjT1mr",
        "colab_type": "text"
      },
      "cell_type": "markdown",
      "source": [
        "### Modified Model : Adding Dense Layer with dropout"
      ]
    },
    {
      "metadata": {
        "id": "pm4evdALOaPd",
        "colab_type": "code",
        "colab": {}
      },
      "cell_type": "code",
      "source": [
        "def CF(Emb_size):\n",
        "  user_id_input = Input(shape=[1], name='user')\n",
        "  item_id_input = Input(shape=[1], name='item')\n",
        "  \n",
        "  user_embedding = Embedding(output_dim=10, input_dim= max_user_id + 1,\n",
        "                             input_length=1, name='user_embedding')(user_id_input)\n",
        "  item_embedding = Embedding(output_dim=10, input_dim=max_item_id + 1,\n",
        "                             input_length=1, name='item_embedding')(item_id_input)\n",
        "  \n",
        "  user_vecs = Flatten()(user_embedding)\n",
        "  item_vecs = Flatten()(item_embedding)\n",
        "  \n",
        "  \n",
        "  input_vecs = concatenate([user_vecs, item_vecs])\n",
        "  input_vecs = Dropout(0.5)(input_vecs)\n",
        "  \n",
        "  x = Dense(64, activation='relu')(input_vecs)\n",
        "  \n",
        "  y = Dense(1)(x)\n",
        "  \n",
        "  return Model(inputs=[user_id_input, item_id_input], outputs=[y])\n",
        "\n",
        "\n",
        "\n",
        "## For Embedding size = 10\n",
        "model2 = CF(10)\n",
        "\n",
        "## For Embedding size = 50\n",
        "model3 = CF(50)\n",
        "\n",
        "## For Embedding size = 100\n",
        "model4 = CF(100)\n"
      ],
      "execution_count": 0,
      "outputs": []
    },
    {
      "metadata": {
        "id": "u2qrLOdQvtg-",
        "colab_type": "text"
      },
      "cell_type": "markdown",
      "source": [
        "### For Embedding size = 10, MAE = 0.761"
      ]
    },
    {
      "metadata": {
        "id": "vXt1sY8Ol_-X",
        "colab_type": "code",
        "colab": {
          "base_uri": "https://localhost:8080/",
          "height": 230
        },
        "outputId": "4584e937-ab5b-4b8b-c538-cfeef28c1360"
      },
      "cell_type": "code",
      "source": [
        "model2.fit([user_id_train, item_id_train], score_train, batch_size=64, epochs=5, validation_split=0.2)\n",
        "from sklearn.metrics import mean_absolute_error\n",
        "predicted = model2.predict([user_id_test, item_id_test]).squeeze() \n",
        "mae = mean_absolute_error(predicted, score_test)\n",
        "print(\"Final test MAE: %0.3f\" % mae)\n",
        "\n",
        "## Validation accuracy was decreasing with higher epochs, seeing increase in training accuracy. This clearly implies overfitting due to retrainingon same sample data"
      ],
      "execution_count": 53,
      "outputs": [
        {
          "output_type": "stream",
          "text": [
            "Train on 127040 samples, validate on 31761 samples\n",
            "Epoch 1/5\n",
            "127040/127040 [==============================] - 11s 86us/step - loss: 0.5581 - acc: 0.6364 - val_loss: 0.7555 - val_acc: 0.5340\n",
            "Epoch 2/5\n",
            "127040/127040 [==============================] - 11s 85us/step - loss: 0.5566 - acc: 0.6378 - val_loss: 0.7610 - val_acc: 0.5312\n",
            "Epoch 3/5\n",
            "127040/127040 [==============================] - 11s 86us/step - loss: 0.5547 - acc: 0.6394 - val_loss: 0.7564 - val_acc: 0.5324\n",
            "Epoch 4/5\n",
            "127040/127040 [==============================] - 11s 86us/step - loss: 0.5544 - acc: 0.6396 - val_loss: 0.7607 - val_acc: 0.5287\n",
            "Epoch 5/5\n",
            "127040/127040 [==============================] - 11s 86us/step - loss: 0.5517 - acc: 0.6412 - val_loss: 0.7581 - val_acc: 0.5331\n",
            "Final test MAE: 0.761\n"
          ],
          "name": "stdout"
        }
      ]
    },
    {
      "metadata": {
        "id": "FeS6z0xev3_0",
        "colab_type": "text"
      },
      "cell_type": "markdown",
      "source": [
        "### For Embedding size = 50, MAE = 0.789"
      ]
    },
    {
      "metadata": {
        "id": "pji5rFvMmL3Z",
        "colab_type": "code",
        "colab": {
          "base_uri": "https://localhost:8080/",
          "height": 230
        },
        "outputId": "6a7c1c03-cf05-422c-8f6f-5a76df1a4437"
      },
      "cell_type": "code",
      "source": [
        "model3.fit([user_id_train, item_id_train], score_train, batch_size=64, epochs=5, validation_split=0.2)\n",
        "predicted = model3.predict([user_id_test, item_id_test]).squeeze() \n",
        "mae = mean_absolute_error(predicted, score_test)\n",
        "print(\"Final test MAE: %0.3f\" % mae)"
      ],
      "execution_count": 55,
      "outputs": [
        {
          "output_type": "stream",
          "text": [
            "Train on 127040 samples, validate on 31761 samples\n",
            "Epoch 1/5\n",
            "127040/127040 [==============================] - 14s 114us/step - loss: 0.5521 - acc: 0.6471 - val_loss: 0.7766 - val_acc: 0.5251\n",
            "Epoch 2/5\n",
            "127040/127040 [==============================] - 14s 114us/step - loss: 0.5408 - acc: 0.6548 - val_loss: 0.7793 - val_acc: 0.5276\n",
            "Epoch 3/5\n",
            "127040/127040 [==============================] - 15s 114us/step - loss: 0.5324 - acc: 0.6603 - val_loss: 0.7820 - val_acc: 0.5271\n",
            "Epoch 4/5\n",
            "127040/127040 [==============================] - 15s 116us/step - loss: 0.5242 - acc: 0.6629 - val_loss: 0.7902 - val_acc: 0.5231\n",
            "Epoch 5/5\n",
            "127040/127040 [==============================] - 15s 115us/step - loss: 0.5170 - acc: 0.6675 - val_loss: 0.7895 - val_acc: 0.5225\n",
            "Final test MAE: 0.789\n"
          ],
          "name": "stdout"
        }
      ]
    },
    {
      "metadata": {
        "id": "QC-b9ZxmwBG_",
        "colab_type": "text"
      },
      "cell_type": "markdown",
      "source": [
        "### For Embedding size = 100, MAE= 0.795"
      ]
    },
    {
      "metadata": {
        "id": "LUb4YlknUm4m",
        "colab_type": "code",
        "colab": {
          "base_uri": "https://localhost:8080/",
          "height": 230
        },
        "outputId": "a2d93b96-c5dd-4d0b-b246-f9f1001aac8b"
      },
      "cell_type": "code",
      "source": [
        "model4.fit([user_id_train, item_id_train], score_train, batch_size=64, epochs=5, validation_split=0.2)\n",
        "predicted = model4.predict([user_id_test, item_id_test]).squeeze() \n",
        "mae = mean_absolute_error(predicted, score_test)\n",
        "print(\"Final test MAE: %0.3f\" % mae)"
      ],
      "execution_count": 57,
      "outputs": [
        {
          "output_type": "stream",
          "text": [
            "Train on 127040 samples, validate on 31761 samples\n",
            "Epoch 1/5\n",
            "127040/127040 [==============================] - 15s 115us/step - loss: 0.5433 - acc: 0.6537 - val_loss: 0.7818 - val_acc: 0.5248\n",
            "Epoch 2/5\n",
            "127040/127040 [==============================] - 15s 115us/step - loss: 0.5323 - acc: 0.6601 - val_loss: 0.7807 - val_acc: 0.5249\n",
            "Epoch 3/5\n",
            "127040/127040 [==============================] - 15s 119us/step - loss: 0.5249 - acc: 0.6634 - val_loss: 0.7889 - val_acc: 0.5229\n",
            "Epoch 4/5\n",
            "127040/127040 [==============================] - 15s 114us/step - loss: 0.5174 - acc: 0.6669 - val_loss: 0.7855 - val_acc: 0.5228\n",
            "Epoch 5/5\n",
            "127040/127040 [==============================] - 15s 115us/step - loss: 0.5102 - acc: 0.6701 - val_loss: 0.7975 - val_acc: 0.5224\n",
            "Final test MAE: 0.795\n"
          ],
          "name": "stdout"
        }
      ]
    },
    {
      "metadata": {
        "id": "r4ryFXiaqYGm",
        "colab_type": "text"
      },
      "cell_type": "markdown",
      "source": [
        " For our dataset and the above created model, the best Embedding Layer size seem to be 10, having least MAE (Mean Absolute Score) and highest validation accuracy. Thought the perfect way of measuring any model would be calculating its F1 score, which gives the complete background of what is happening, but for comparing the hyperparameter with such minute difference, accuracy could also be used"
      ]
    },
    {
      "metadata": {
        "id": "8S279vrsXbK2",
        "colab_type": "text"
      },
      "cell_type": "markdown",
      "source": [
        "## Neural Based Collaborative Filtering"
      ]
    },
    {
      "metadata": {
        "id": "FzXM3mtot_SW",
        "colab_type": "text"
      },
      "cell_type": "markdown",
      "source": [
        "Reference   WWW 2017 paper entitled: Neural Collaborative Filtering"
      ]
    },
    {
      "metadata": {
        "id": "ZUGgEIXtXWui",
        "colab_type": "code",
        "colab": {}
      },
      "cell_type": "code",
      "source": [
        "import keras\n",
        "n_latent_factors_user = 8\n",
        "n_latent_factors_item = 10\n",
        "n_latent_factors_mf = 3\n",
        "n_users, n_items = len(ratings['user_emb_id'].unique()), len(ratings['item_emb_id'].unique())\n",
        "\n",
        "item_input = keras.layers.Input(shape=[1],name='Item')\n",
        "item_embedding_mlp = keras.layers.Embedding(n_items + 1, n_latent_factors_item, name='Item-Embedding-MLP')(item_input)\n",
        "item_vec_mlp = keras.layers.Flatten(name='FlattenItem-MLP')(item_embedding_mlp)\n",
        "item_vec_mlp = keras.layers.Dropout(0.2)(item_vec_mlp)\n",
        "\n",
        "item_embedding_mf = keras.layers.Embedding(n_items + 1, n_latent_factors_mf, name='Item-Embedding-MF')(item_input)\n",
        "item_vec_mf = keras.layers.Flatten(name='FlattenItem-MF')(item_embedding_mf)\n",
        "item_vec_mf = keras.layers.Dropout(0.2)(item_vec_mf)\n",
        "\n",
        "\n",
        "user_input = keras.layers.Input(shape=[1],name='User')\n",
        "user_vec_mlp = keras.layers.Flatten(name='FlattenUsers-MLP')(keras.layers.Embedding(n_users + 1, n_latent_factors_user,name='User-Embedding-MLP')(user_input))\n",
        "user_vec_mlp = keras.layers.Dropout(0.2)(user_vec_mlp)\n",
        "\n",
        "user_vec_mf = keras.layers.Flatten(name='FlattenUsers-MF')(keras.layers.Embedding(n_users + 1, n_latent_factors_mf,name='User-Embedding-MF')(user_input))\n",
        "user_vec_mf = keras.layers.Dropout(0.2)(user_vec_mf)\n"
      ],
      "execution_count": 0,
      "outputs": []
    },
    {
      "metadata": {
        "id": "fIvkX8FVrUrI",
        "colab_type": "code",
        "colab": {}
      },
      "cell_type": "code",
      "source": [
        "concat = keras.layers.merge.concatenate([item_vec_mlp, user_vec_mlp])\n",
        "concat_dropout = keras.layers.Dropout(0.2)(concat)\n",
        "dense = keras.layers.Dense(200,name='FullyConnected')(concat_dropout)\n",
        "dense_batch = keras.layers.BatchNormalization(name='Batch')(dense)\n",
        "dropout_1 = keras.layers.Dropout(0.2,name='Dropout-1')(dense_batch)\n",
        "dense_2 = keras.layers.Dense(100,name='FullyConnected-1')(dropout_1)\n",
        "dense_batch_2 = keras.layers.BatchNormalization(name='Batch-2')(dense_2)\n",
        "\n",
        "\n",
        "dropout_2 = keras.layers.Dropout(0.2,name='Dropout-2')(dense_batch_2)\n",
        "dense_3 = keras.layers.Dense(50,name='FullyConnected-2')(dropout_2)\n",
        "dense_4 = keras.layers.Dense(20,name='FullyConnected-3', activation='relu')(dense_3)\n",
        "\n",
        "pred_mf = keras.layers.dot([item_vec_mf, user_vec_mf],axes=1, normalize=False)\n",
        "\n",
        "\n",
        "pred_mlp = keras.layers.Dense(1, activation='relu',name='Activation')(dense_4)\n",
        "\n",
        "combine_mlp_mf = keras.layers.merge.concatenate([pred_mf, pred_mlp])\n",
        "result_combine = keras.layers.Dense(100,name='Combine-MF-MLP')(combine_mlp_mf)\n",
        "deep_combine = keras.layers.Dense(100,name='FullyConnected-4')(result_combine)\n",
        "\n",
        "\n",
        "result = keras.layers.Dense(1,name='Prediction')(deep_combine)"
      ],
      "execution_count": 0,
      "outputs": []
    },
    {
      "metadata": {
        "id": "fim2hD7uZpQy",
        "colab_type": "code",
        "colab": {
          "base_uri": "https://localhost:8080/",
          "height": 1261
        },
        "outputId": "93627d6f-dadd-424e-8bca-1b420738d55f"
      },
      "cell_type": "code",
      "source": [
        "model = keras.Model([user_input, item_input], result)\n",
        "opt = keras.optimizers.Adam(lr =0.01)\n",
        "model.compile(optimizer='adam',loss= 'mean_absolute_error', metrics=['accuracy'])\n",
        "model.summary()"
      ],
      "execution_count": 38,
      "outputs": [
        {
          "output_type": "stream",
          "text": [
            "__________________________________________________________________________________________________\n",
            "Layer (type)                    Output Shape         Param #     Connected to                     \n",
            "==================================================================================================\n",
            "Item (InputLayer)               (None, 1)            0                                            \n",
            "__________________________________________________________________________________________________\n",
            "User (InputLayer)               (None, 1)            0                                            \n",
            "__________________________________________________________________________________________________\n",
            "Item-Embedding-MLP (Embedding)  (None, 1, 10)        121020      Item[0][0]                       \n",
            "__________________________________________________________________________________________________\n",
            "User-Embedding-MLP (Embedding)  (None, 1, 8)         178912      User[0][0]                       \n",
            "__________________________________________________________________________________________________\n",
            "FlattenItem-MLP (Flatten)       (None, 10)           0           Item-Embedding-MLP[0][0]         \n",
            "__________________________________________________________________________________________________\n",
            "FlattenUsers-MLP (Flatten)      (None, 8)            0           User-Embedding-MLP[0][0]         \n",
            "__________________________________________________________________________________________________\n",
            "dropout_24 (Dropout)            (None, 10)           0           FlattenItem-MLP[0][0]            \n",
            "__________________________________________________________________________________________________\n",
            "dropout_26 (Dropout)            (None, 8)            0           FlattenUsers-MLP[0][0]           \n",
            "__________________________________________________________________________________________________\n",
            "concatenate_7 (Concatenate)     (None, 18)           0           dropout_24[0][0]                 \n",
            "                                                                 dropout_26[0][0]                 \n",
            "__________________________________________________________________________________________________\n",
            "dropout_28 (Dropout)            (None, 18)           0           concatenate_7[0][0]              \n",
            "__________________________________________________________________________________________________\n",
            "FullyConnected (Dense)          (None, 200)          3800        dropout_28[0][0]                 \n",
            "__________________________________________________________________________________________________\n",
            "Batch (BatchNormalization)      (None, 200)          800         FullyConnected[0][0]             \n",
            "__________________________________________________________________________________________________\n",
            "Dropout-1 (Dropout)             (None, 200)          0           Batch[0][0]                      \n",
            "__________________________________________________________________________________________________\n",
            "FullyConnected-1 (Dense)        (None, 100)          20100       Dropout-1[0][0]                  \n",
            "__________________________________________________________________________________________________\n",
            "Batch-2 (BatchNormalization)    (None, 100)          400         FullyConnected-1[0][0]           \n",
            "__________________________________________________________________________________________________\n",
            "Item-Embedding-MF (Embedding)   (None, 1, 3)         36306       Item[0][0]                       \n",
            "__________________________________________________________________________________________________\n",
            "User-Embedding-MF (Embedding)   (None, 1, 3)         67092       User[0][0]                       \n",
            "__________________________________________________________________________________________________\n",
            "Dropout-2 (Dropout)             (None, 100)          0           Batch-2[0][0]                    \n",
            "__________________________________________________________________________________________________\n",
            "FlattenItem-MF (Flatten)        (None, 3)            0           Item-Embedding-MF[0][0]          \n",
            "__________________________________________________________________________________________________\n",
            "FlattenUsers-MF (Flatten)       (None, 3)            0           User-Embedding-MF[0][0]          \n",
            "__________________________________________________________________________________________________\n",
            "FullyConnected-2 (Dense)        (None, 50)           5050        Dropout-2[0][0]                  \n",
            "__________________________________________________________________________________________________\n",
            "dropout_25 (Dropout)            (None, 3)            0           FlattenItem-MF[0][0]             \n",
            "__________________________________________________________________________________________________\n",
            "dropout_27 (Dropout)            (None, 3)            0           FlattenUsers-MF[0][0]            \n",
            "__________________________________________________________________________________________________\n",
            "FullyConnected-3 (Dense)        (None, 20)           1020        FullyConnected-2[0][0]           \n",
            "__________________________________________________________________________________________________\n",
            "dot_3 (Dot)                     (None, 1)            0           dropout_25[0][0]                 \n",
            "                                                                 dropout_27[0][0]                 \n",
            "__________________________________________________________________________________________________\n",
            "Activation (Dense)              (None, 1)            21          FullyConnected-3[0][0]           \n",
            "__________________________________________________________________________________________________\n",
            "concatenate_8 (Concatenate)     (None, 2)            0           dot_3[0][0]                      \n",
            "                                                                 Activation[0][0]                 \n",
            "__________________________________________________________________________________________________\n",
            "Combine-MF-MLP (Dense)          (None, 100)          300         concatenate_8[0][0]              \n",
            "__________________________________________________________________________________________________\n",
            "FullyConnected-4 (Dense)        (None, 100)          10100       Combine-MF-MLP[0][0]             \n",
            "__________________________________________________________________________________________________\n",
            "Prediction (Dense)              (None, 1)            101         FullyConnected-4[0][0]           \n",
            "==================================================================================================\n",
            "Total params: 445,022\n",
            "Trainable params: 444,422\n",
            "Non-trainable params: 600\n",
            "__________________________________________________________________________________________________\n"
          ],
          "name": "stdout"
        }
      ]
    },
    {
      "metadata": {
        "id": "hCVXqQI2dlW7",
        "colab_type": "code",
        "colab": {
          "base_uri": "https://localhost:8080/",
          "height": 34
        },
        "outputId": "09a1ec9c-17f0-4219-cc4f-8b1a7f7d1383"
      },
      "cell_type": "code",
      "source": [
        "model.fit([user_id_train, item_id_train], score_train, epochs=5, verbose=0, validation_split=0.2)"
      ],
      "execution_count": 39,
      "outputs": [
        {
          "output_type": "execute_result",
          "data": {
            "text/plain": [
              "<keras.callbacks.History at 0x7fc79bcb85c0>"
            ]
          },
          "metadata": {
            "tags": []
          },
          "execution_count": 39
        }
      ]
    },
    {
      "metadata": {
        "id": "XPud2dvmeEK7",
        "colab_type": "code",
        "colab": {
          "base_uri": "https://localhost:8080/",
          "height": 52
        },
        "outputId": "34912773-4939-44d4-d751-5b9c4551e373"
      },
      "cell_type": "code",
      "source": [
        "from sklearn.metrics import mean_absolute_error\n",
        "y_hat_2 = np.round(model.predict([user_id_train, item_id_train]),0)\n",
        "print(mean_absolute_error(score_train, y_hat_2))\n",
        "\n",
        "print(mean_absolute_error(score_test, model.predict([user_id_test, item_id_test])))"
      ],
      "execution_count": 47,
      "outputs": [
        {
          "output_type": "stream",
          "text": [
            "0.5342472654454317\n",
            "0.9073115254027403\n"
          ],
          "name": "stdout"
        }
      ]
    },
    {
      "metadata": {
        "id": "PbFVLZ8irhov",
        "colab_type": "text"
      },
      "cell_type": "markdown",
      "source": [
        "The MAE score has infact increased in this case. Little tuning might be required to generate better result for Neural Network. Nonetheless, this gives us the baseline and shows that our simple model does not perform too bad. "
      ]
    }
  ]
}