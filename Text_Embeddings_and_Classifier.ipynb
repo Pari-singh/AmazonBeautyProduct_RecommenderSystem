{
  "nbformat": 4,
  "nbformat_minor": 0,
  "metadata": {
    "colab": {
      "name": "Text Embeddings and Classifier.ipynb",
      "version": "0.3.2",
      "provenance": [],
      "include_colab_link": true
    },
    "kernelspec": {
      "name": "python3",
      "display_name": "Python 3"
    },
    "accelerator": "GPU"
  },
  "cells": [
    {
      "cell_type": "markdown",
      "metadata": {
        "id": "view-in-github",
        "colab_type": "text"
      },
      "source": [
        "<a href=\"https://colab.research.google.com/github/Pari-singh/AmazonBeautyProduct_RecommenderSystem/blob/master/Text_Embeddings_and_Classifier.ipynb\" target=\"_parent\"><img src=\"https://colab.research.google.com/assets/colab-badge.svg\" alt=\"Open In Colab\"/></a>"
      ]
    },
    {
      "metadata": {
        "id": "FQp9Ynllw1E9",
        "colab_type": "text"
      },
      "cell_type": "markdown",
      "source": [
        "# Text Classification of Review Summary"
      ]
    },
    {
      "metadata": {
        "id": "6u-K7G2QARdQ",
        "colab_type": "text"
      },
      "cell_type": "markdown",
      "source": [
        "Estimated Time taken : 5 hrs (Mostly in (re)training the model for accuracy )"
      ]
    },
    {
      "metadata": {
        "id": "xy2AfRN4t-st",
        "colab_type": "code",
        "colab": {
          "base_uri": "https://localhost:8080/",
          "height": 34
        },
        "outputId": "070c15c2-4d4b-4f1f-b4dc-13ffebbf6735"
      },
      "cell_type": "code",
      "source": [
        "# from google.colab import drive\n",
        "# drive.mount('/content/drive')\n",
        "cd drive/My\\ Drive/Colab\\ Notebooks"
      ],
      "execution_count": 5,
      "outputs": [
        {
          "output_type": "stream",
          "text": [
            "/content/drive/My Drive/Colab Notebooks\n"
          ],
          "name": "stdout"
        }
      ]
    },
    {
      "metadata": {
        "id": "vvU6Cc0klSmN",
        "colab_type": "text"
      },
      "cell_type": "markdown",
      "source": [
        "### Importing libraries and zipfiles"
      ]
    },
    {
      "metadata": {
        "id": "keQ_3pJVuoRJ",
        "colab_type": "code",
        "colab": {
          "base_uri": "https://localhost:8080/",
          "height": 52
        },
        "outputId": "054cb485-f9ff-44ea-9993-07531148fad7"
      },
      "cell_type": "code",
      "source": [
        "from keras.preprocessing.text import Tokenizer\n",
        "from keras.preprocessing.sequence import pad_sequences\n",
        "from keras.models import Sequential\n",
        "from keras.layers import Dense, Flatten, LSTM, Conv1D, MaxPooling1D, Dropout, Activation\n",
        "from keras.layers.embeddings import Embedding\n",
        "\n",
        "import pandas as pd\n",
        "import gzip\n",
        "import nltk, re\n",
        "import string\n",
        "import numpy as np\n",
        "import matplotlib.pyplot as plt\n",
        "%matplotlib inline\n",
        "from nltk.corpus import stopwords\n",
        "from nltk.stem import SnowballStemmer\n",
        "nltk.download('wordnet')\n",
        "#!wget http://nlp.stanford.edu/data/glove.6B.zip\n",
        "\n",
        "import zipfile\n",
        "zip_ref = zipfile.ZipFile(\"glove.6B.zip\", 'r')\n",
        "zip_ref.extractall(\"glove.6B\")\n",
        "zip_ref.close()\n",
        "\n",
        "from sklearn.manifold import TSNE\n",
        "from sklearn import metrics\n",
        "from sklearn.naive_bayes import MultinomialNB\n",
        "from sklearn.model_selection import train_test_split"
      ],
      "execution_count": 7,
      "outputs": [
        {
          "output_type": "stream",
          "text": [
            "[nltk_data] Downloading package wordnet to /root/nltk_data...\n",
            "[nltk_data]   Package wordnet is already up-to-date!\n"
          ],
          "name": "stdout"
        }
      ]
    },
    {
      "metadata": {
        "id": "zt24x-uuldXd",
        "colab_type": "text"
      },
      "cell_type": "markdown",
      "source": [
        "### Reading data into dataframe"
      ]
    },
    {
      "metadata": {
        "id": "YrSZxRLzhkYn",
        "colab_type": "code",
        "colab": {
          "base_uri": "https://localhost:8080/",
          "height": 407
        },
        "outputId": "a657611c-6a73-420e-ac47-b1b7dd0d480c"
      },
      "cell_type": "code",
      "source": [
        "def parse(path):\n",
        "    g = gzip.open(path, 'rb')\n",
        "    for l in g:\n",
        "        yield eval(l)\n",
        "\n",
        "def getDF(path):\n",
        "    i = 0\n",
        "    df = {}\n",
        "    for d in parse(path):\n",
        "        df[i] = d\n",
        "        i += 1\n",
        "    return pd.DataFrame.from_dict(df, orient='index')\n",
        "\n",
        "ratings = getDF('reviews_Beauty_5.json.gz')\n",
        "ratings.rename(columns={'reviewerID': 'user_id', \n",
        "                        'asin': 'item_id', \n",
        "                        'reviewerName': 'user_name', \n",
        "                        'reviewText': 'review_text',\n",
        "                        'summary': 'review_summary',\n",
        "                        'overall': 'score'},\n",
        "               inplace=True)\n",
        "\n",
        "ratings['user_emb_id'] = ratings.user_id.astype('category').cat.codes.values\n",
        "ratings['item_emb_id'] = ratings.item_id.astype('category').cat.codes.values\n",
        "ratings.sample(7)"
      ],
      "execution_count": 8,
      "outputs": [
        {
          "output_type": "execute_result",
          "data": {
            "text/html": [
              "<div>\n",
              "<style scoped>\n",
              "    .dataframe tbody tr th:only-of-type {\n",
              "        vertical-align: middle;\n",
              "    }\n",
              "\n",
              "    .dataframe tbody tr th {\n",
              "        vertical-align: top;\n",
              "    }\n",
              "\n",
              "    .dataframe thead th {\n",
              "        text-align: right;\n",
              "    }\n",
              "</style>\n",
              "<table border=\"1\" class=\"dataframe\">\n",
              "  <thead>\n",
              "    <tr style=\"text-align: right;\">\n",
              "      <th></th>\n",
              "      <th>user_id</th>\n",
              "      <th>item_id</th>\n",
              "      <th>user_name</th>\n",
              "      <th>helpful</th>\n",
              "      <th>review_text</th>\n",
              "      <th>score</th>\n",
              "      <th>review_summary</th>\n",
              "      <th>unixReviewTime</th>\n",
              "      <th>reviewTime</th>\n",
              "      <th>user_emb_id</th>\n",
              "      <th>item_emb_id</th>\n",
              "    </tr>\n",
              "  </thead>\n",
              "  <tbody>\n",
              "    <tr>\n",
              "      <th>12972</th>\n",
              "      <td>A2PAQWQIHIB30T</td>\n",
              "      <td>B0009MHJS0</td>\n",
              "      <td>Nefertiti \"Lynnette Burton\"</td>\n",
              "      <td>[2, 2]</td>\n",
              "      <td>I love the shea butter 100% pure &amp; raw. It wor...</td>\n",
              "      <td>5.0</td>\n",
              "      <td>Great Product!</td>\n",
              "      <td>1332460800</td>\n",
              "      <td>03 23, 2012</td>\n",
              "      <td>10106</td>\n",
              "      <td>770</td>\n",
              "    </tr>\n",
              "    <tr>\n",
              "      <th>161005</th>\n",
              "      <td>A3R3VZ1GEYMLMI</td>\n",
              "      <td>B009CS493U</td>\n",
              "      <td>Jackie</td>\n",
              "      <td>[0, 0]</td>\n",
              "      <td>Its like a fake gold necklace making those des...</td>\n",
              "      <td>3.0</td>\n",
              "      <td>its ok</td>\n",
              "      <td>1397088000</td>\n",
              "      <td>04 10, 2014</td>\n",
              "      <td>16314</td>\n",
              "      <td>10353</td>\n",
              "    </tr>\n",
              "    <tr>\n",
              "      <th>41264</th>\n",
              "      <td>A2LBN99KCBHEDR</td>\n",
              "      <td>B00128WK4I</td>\n",
              "      <td>Jenn</td>\n",
              "      <td>[17, 22]</td>\n",
              "      <td>I started using this product about 3 months ag...</td>\n",
              "      <td>4.0</td>\n",
              "      <td>Great Product! Buy it somewhere else though.</td>\n",
              "      <td>1346803200</td>\n",
              "      <td>09 5, 2012</td>\n",
              "      <td>9393</td>\n",
              "      <td>2780</td>\n",
              "    </tr>\n",
              "    <tr>\n",
              "      <th>79947</th>\n",
              "      <td>AMUKWN4BTOGAJ</td>\n",
              "      <td>B002VH64KA</td>\n",
              "      <td>Andy Hdz</td>\n",
              "      <td>[0, 0]</td>\n",
              "      <td>My dermatologist recommended this product for ...</td>\n",
              "      <td>5.0</td>\n",
              "      <td>GREAT FOR EVERYDAY</td>\n",
              "      <td>1358294400</td>\n",
              "      <td>01 16, 2013</td>\n",
              "      <td>20268</td>\n",
              "      <td>5377</td>\n",
              "    </tr>\n",
              "    <tr>\n",
              "      <th>170020</th>\n",
              "      <td>A1ZZZT0KJR46UV</td>\n",
              "      <td>B00AE07EIM</td>\n",
              "      <td>Darla Mcgranaghan</td>\n",
              "      <td>[0, 2]</td>\n",
              "      <td>A really nice product that leaves the hair and...</td>\n",
              "      <td>5.0</td>\n",
              "      <td>A+ all the way</td>\n",
              "      <td>1363824000</td>\n",
              "      <td>03 21, 2013</td>\n",
              "      <td>5842</td>\n",
              "      <td>10702</td>\n",
              "    </tr>\n",
              "    <tr>\n",
              "      <th>180353</th>\n",
              "      <td>A3UMD2J83ORKUF</td>\n",
              "      <td>B00CF7HBA8</td>\n",
              "      <td>CR</td>\n",
              "      <td>[1, 1]</td>\n",
              "      <td>I'm providing this review of the Croc Hair Sty...</td>\n",
              "      <td>4.0</td>\n",
              "      <td>Clips are fantastic!</td>\n",
              "      <td>1393891200</td>\n",
              "      <td>03 4, 2014</td>\n",
              "      <td>16928</td>\n",
              "      <td>11261</td>\n",
              "    </tr>\n",
              "    <tr>\n",
              "      <th>149738</th>\n",
              "      <td>A103979529MRJY0U56QI4</td>\n",
              "      <td>B007TKL5UI</td>\n",
              "      <td>liquidbabydoll</td>\n",
              "      <td>[0, 1]</td>\n",
              "      <td>these really look like hello kitty and clear g...</td>\n",
              "      <td>5.0</td>\n",
              "      <td>i love em</td>\n",
              "      <td>1375660800</td>\n",
              "      <td>08 5, 2013</td>\n",
              "      <td>47</td>\n",
              "      <td>9619</td>\n",
              "    </tr>\n",
              "  </tbody>\n",
              "</table>\n",
              "</div>"
            ],
            "text/plain": [
              "                      user_id     item_id                    user_name  \\\n",
              "12972          A2PAQWQIHIB30T  B0009MHJS0  Nefertiti \"Lynnette Burton\"   \n",
              "161005         A3R3VZ1GEYMLMI  B009CS493U                       Jackie   \n",
              "41264          A2LBN99KCBHEDR  B00128WK4I                         Jenn   \n",
              "79947           AMUKWN4BTOGAJ  B002VH64KA                     Andy Hdz   \n",
              "170020         A1ZZZT0KJR46UV  B00AE07EIM            Darla Mcgranaghan   \n",
              "180353         A3UMD2J83ORKUF  B00CF7HBA8                           CR   \n",
              "149738  A103979529MRJY0U56QI4  B007TKL5UI               liquidbabydoll   \n",
              "\n",
              "         helpful                                        review_text  score  \\\n",
              "12972     [2, 2]  I love the shea butter 100% pure & raw. It wor...    5.0   \n",
              "161005    [0, 0]  Its like a fake gold necklace making those des...    3.0   \n",
              "41264   [17, 22]  I started using this product about 3 months ag...    4.0   \n",
              "79947     [0, 0]  My dermatologist recommended this product for ...    5.0   \n",
              "170020    [0, 2]  A really nice product that leaves the hair and...    5.0   \n",
              "180353    [1, 1]  I'm providing this review of the Croc Hair Sty...    4.0   \n",
              "149738    [0, 1]  these really look like hello kitty and clear g...    5.0   \n",
              "\n",
              "                                      review_summary  unixReviewTime  \\\n",
              "12972                                 Great Product!      1332460800   \n",
              "161005                                        its ok      1397088000   \n",
              "41264   Great Product! Buy it somewhere else though.      1346803200   \n",
              "79947                             GREAT FOR EVERYDAY      1358294400   \n",
              "170020                                A+ all the way      1363824000   \n",
              "180353                          Clips are fantastic!      1393891200   \n",
              "149738                                     i love em      1375660800   \n",
              "\n",
              "         reviewTime  user_emb_id  item_emb_id  \n",
              "12972   03 23, 2012        10106          770  \n",
              "161005  04 10, 2014        16314        10353  \n",
              "41264    09 5, 2012         9393         2780  \n",
              "79947   01 16, 2013        20268         5377  \n",
              "170020  03 21, 2013         5842        10702  \n",
              "180353   03 4, 2014        16928        11261  \n",
              "149738   08 5, 2013           47         9619  "
            ]
          },
          "metadata": {
            "tags": []
          },
          "execution_count": 8
        }
      ]
    },
    {
      "metadata": {
        "id": "LK-FVNuZ_Xp1",
        "colab_type": "code",
        "colab": {
          "base_uri": "https://localhost:8080/",
          "height": 34
        },
        "outputId": "a272c6bb-82e6-410c-9665-7123f666e8cf"
      },
      "cell_type": "code",
      "source": [
        "ratings['score'].isnull().any()"
      ],
      "execution_count": 20,
      "outputs": [
        {
          "output_type": "execute_result",
          "data": {
            "text/plain": [
              "False"
            ]
          },
          "metadata": {
            "tags": []
          },
          "execution_count": 20
        }
      ]
    },
    {
      "metadata": {
        "id": "dTAefIAHrRHG",
        "colab_type": "code",
        "colab": {}
      },
      "cell_type": "code",
      "source": [
        "labels = ratings['score'].map(lambda x : 1 if int(x) > 3 else 0)"
      ],
      "execution_count": 0,
      "outputs": []
    },
    {
      "metadata": {
        "id": "Iev53JMMy4TF",
        "colab_type": "text"
      },
      "cell_type": "markdown",
      "source": [
        "### Preprocessing the Review Summary from the data before Classifying"
      ]
    },
    {
      "metadata": {
        "id": "Y_wEsvx5uh9k",
        "colab_type": "code",
        "colab": {}
      },
      "cell_type": "code",
      "source": [
        "def preprocess_text(text, chop):\n",
        "  '''\n",
        "    input -  text: string object containing the review\n",
        "             chop: testing stemming/lemmatization\n",
        "             \n",
        "    output - returns preprocessed text back\n",
        "  '''\n",
        "\n",
        "  #   print(\"reached the first line\")\n",
        "  a = list(string.punctuation)\n",
        "  a.remove(\"'\")\n",
        "  b = \"\".join(a)\n",
        "  text = text.translate(str.maketrans('', '', b))   ## Removes punctuations\n",
        "  \n",
        "  text = text.lower().split() ## Converts to lower case and into a list\n",
        "  text = \" \".join(text)\n",
        "  \n",
        "  \n",
        "## Some manual cleaning required! \n",
        "  \n",
        "  text = re.sub(r\"what's\", \"what is \", text)\n",
        "  text = re.sub(r\"\\'s\", \" \", text)\n",
        "  text = re.sub(r\"\\'ve\", \" have \", text)\n",
        "  text = re.sub(r\"n't\", \" not \", text)\n",
        "  text = re.sub(r\"i'm\", \"i am \", text)\n",
        "  text = re.sub(r\"\\'re\", \" are \", text)\n",
        "  text = re.sub(r\"\\'d\", \" would \", text)\n",
        "  text = re.sub(r\"\\'ll\", \" will \", text)\n",
        "  text = re.sub(r\"'\", \" \", text)\n",
        "  text = re.sub(r\"(\\d+)(k)\", r\"\\g<1>000\", text)\n",
        "  text = re.sub(r\":\", \" : \", text)\n",
        "  text = re.sub(r\" e g \", \" eg \", text)\n",
        "  text = re.sub(r\" b g \", \" bg \", text)\n",
        "  text = re.sub(r\" u s \", \" american \", text)\n",
        "  text = re.sub(r\"\\0s\", \"0\", text)\n",
        "  text = re.sub(r\" 9 11 \", \"911\", text)\n",
        "  text = re.sub(r\"e - mail\", \"email\", text)\n",
        "  text = re.sub(r\"j k\", \"jk\", text)\n",
        "  text = re.sub(r\"\\s{2,}\", \" \", text)\n",
        "  text = re.sub(r\"[^A-Za-z]\", \" \", text)\n",
        "  \n",
        "  \n",
        "  ## removing context based stop words rather than using nltk stop words for preserving the sentiment-depicting words like not etc.\n",
        "  stops = ['i','me','my','myself','we','our','ours','ourselves','you',\"youre\",\"youve\",\"youll\",\"youd\",'your',\\\n",
        "           'yours','yourself','yourselves','he','him','his','himself','she',\"shes\",'her','hers','herself','it','its','itself',\\\n",
        "           'they','them','their','theirs','themselves','what','which','who','whom','this','that',\"thatll\",'these','those','am',\\\n",
        "           'is','are','was','were','be','been','being','do','does','did','doing','a','an','the','and','if','or','because','as',\\\n",
        "           'until','while','of','at','by','for','with','about','against','between','into','through','during','before','after',\\\n",
        "           'above','below','to','from','up','down','in','out','on','off','over','under','again','further','then','once','here', 'only', \\\n",
        "           'there','when','where','why','how','so','will','would','just', 'hey', 'hi', 'though', 'and', 'yet', 'but', 'nonetheless', 'thus', 'therefore']\n",
        "  \n",
        "  \n",
        "  text = [w for w in text.split() if w not in stops]\n",
        "  \n",
        "  text = \" \".join(text)\n",
        "  \n",
        "  text = text.split()\n",
        "  if chop == 'Stem':\n",
        "    ## Stemming\n",
        "    stemmer = SnowballStemmer('english')\n",
        "    chopped_words = [stemmer.stem(word) for word in text]\n",
        "    \n",
        "  if chop == \"lemmatize\":\n",
        "    lemmatizer = nltk.stem.WordNetLemmatizer()\n",
        "    chopped_words = [lemmatizer.lemmatize(word) for word in text]\n",
        "    \n",
        "  text = \" \".join(chopped_words)  \n",
        "  \n",
        "  return text\n",
        "\n",
        "\n",
        "ratings['review_summary'] = ratings['review_summary'].map(lambda x: preprocess_text(x, 'lemmatize'))"
      ],
      "execution_count": 0,
      "outputs": []
    },
    {
      "metadata": {
        "id": "ppH4MpNY1Xrf",
        "colab_type": "text"
      },
      "cell_type": "markdown",
      "source": [
        "### Creating the Word Embedding\n",
        "Tried spacy many times, was taking too long to run even the pre-trained model. Thus decided on tokenizing directly from the GLoVe dictionary"
      ]
    },
    {
      "metadata": {
        "id": "tlHi_q1KVJFY",
        "colab_type": "code",
        "colab": {}
      },
      "cell_type": "code",
      "source": [
        "embeddings_index = dict()\n",
        "f = open('glove.6B/glove.6B.100d.txt')\n",
        "for line in f:\n",
        "    values = line.split()\n",
        "    word = values[0]\n",
        "    coefs = np.asarray(values[1:], dtype='float32')\n",
        "    embeddings_index[word] = coefs\n",
        "f.close()\n",
        "\n",
        "\n",
        "tokenizer = Tokenizer()\n",
        "tokenizer.fit_on_texts(ratings['review_summary'])\n",
        "vocabulary_size = len(tokenizer.word_index) + 1\n",
        "sequences = tokenizer.texts_to_sequences(ratings['review_summary'])\n",
        "padded_doc = pad_sequences(sequences, maxlen=50)\n",
        "\n",
        "embedding_matrix = np.zeros((vocabulary_size, 100))\n",
        "for word, i in tokenizer.word_index.items():\n",
        "  embedding_vector = embeddings_index.get(word)\n",
        "  if embedding_vector is not None:\n",
        "    embedding_matrix[i] = embedding_vector\n"
      ],
      "execution_count": 0,
      "outputs": []
    },
    {
      "metadata": {
        "id": "lijj3Nuz00TA",
        "colab_type": "code",
        "colab": {}
      },
      "cell_type": "code",
      "source": [
        "np.random.seed(7)\n",
        "X_train, X_test, y_train, y_test = train_test_split(padded_doc, labels, test_size=.2, random_state=7)"
      ],
      "execution_count": 0,
      "outputs": []
    },
    {
      "metadata": {
        "id": "tS6yYtJD0aSc",
        "colab_type": "text"
      },
      "cell_type": "markdown",
      "source": [
        "### MultinomialNB (Creating Baseline)"
      ]
    },
    {
      "metadata": {
        "colab_type": "code",
        "id": "3qOiTDTc81Ka",
        "colab": {}
      },
      "cell_type": "code",
      "source": [
        "from sklearn.svm import LinearSVC\n",
        "from sklearn.model_selection import StratifiedKFold\n",
        "skf = StratifiedKFold(n_splits= 10, random_state=8)\n",
        "a = skf.split(X_train, np.array(y_train))\n",
        "\n",
        "F1 = []\n",
        "matrix = []\n",
        "for t_d, te_d in a:\n",
        "    model_base = LinearSVC(C=0.5, class_weight={0:1, 1:10})\n",
        "    model_base.fit(X_train[t_d], np.array(y_train)[t_d])\n",
        "    predictions = model_base.predict(X_train[te_d])\n",
        "    predictions = predictions.reshape(-1)\n",
        "    y_pred = [1 if(i > 0.5) else 0 for i in predictions]\n",
        "    base_matrix = metrics.confusion_matrix(np.array(y_train)[te_d], y_pred)\n",
        "    tn, fp, fn, tp =  base_matrix.ravel()\n",
        "    base_sensitivity = tp * 1.0 / (tp + fn) * 1.0  \n",
        "    base_Precision = tp*1.0 / (tp+fp) *1.0  \n",
        "    base_f1 = 2* ((base_Precision*base_sensitivity)/(base_Precision+base_sensitivity)) \n",
        "    base_sensitivity, base_Precision, base_f1\n",
        "    matrix.append(base_matrix)\n",
        "    F1.append(base_f1)\n",
        "    \n",
        "    \n",
        "# def get_info(model,data, target_variable, prim_var,train_index, test_index, ngram_range):\n",
        "#   clf = MultinomialNB()\n",
        "#   clf.fit(X_train, np.array(y_train))"
      ],
      "execution_count": 0,
      "outputs": []
    },
    {
      "metadata": {
        "id": "DtsIyld4GuN4",
        "colab_type": "code",
        "colab": {
          "base_uri": "https://localhost:8080/",
          "height": 212
        },
        "outputId": "f81964f3-03d5-42a6-df38-dfb6b591824a"
      },
      "cell_type": "code",
      "source": [
        "max(F1), F1"
      ],
      "execution_count": 28,
      "outputs": [
        {
          "output_type": "execute_result",
          "data": {
            "text/plain": [
              "(0.8682398508105005,\n",
              " [0.8633332131655791,\n",
              "  0.8682398508105005,\n",
              "  0.7223268649524728,\n",
              "  0.8589327991258423,\n",
              "  0.7807043012982704,\n",
              "  0.8325590179414541,\n",
              "  0.8328609757019234,\n",
              "  0.7808207911834855,\n",
              "  0.6341774636827641,\n",
              "  0.8548887833741189])"
            ]
          },
          "metadata": {
            "tags": []
          },
          "execution_count": 28
        }
      ]
    },
    {
      "metadata": {
        "id": "a-NOMJmKG2H8",
        "colab_type": "text"
      },
      "cell_type": "markdown",
      "source": [
        "We see the best F1 score is on the 2nd run of K-fold giving us the F1 score of 86.82%"
      ]
    },
    {
      "metadata": {
        "id": "Zv8uudBZAXXC",
        "colab_type": "code",
        "colab": {
          "base_uri": "https://localhost:8080/",
          "height": 34
        },
        "outputId": "97a53c16-ca42-4c8c-c1fc-b96551829d81"
      },
      "cell_type": "code",
      "source": [
        "base_matrix = matrix[1]\n",
        "# base_matrix = metrics.confusion_matrix(np.array(y_test), y_pred)\n",
        "tn, fp, fn, tp =  base_matrix.ravel()\n",
        "base_sensitivity = tp * 1.0 / (tp + fn) * 1.0  \n",
        "base_Precision = tp*1.0 / (tp+fp) *1.0  \n",
        "base_f1 = 2* ((base_Precision*base_sensitivity)/(base_Precision+base_sensitivity)) \n",
        "base_sensitivity, base_Precision, base_f1"
      ],
      "execution_count": 31,
      "outputs": [
        {
          "output_type": "execute_result",
          "data": {
            "text/plain": [
              "(0.980082584406121, 0.7793085688534088, 0.8682398508105005)"
            ]
          },
          "metadata": {
            "tags": []
          },
          "execution_count": 31
        }
      ]
    },
    {
      "metadata": {
        "id": "khwCZZ2Ylwid",
        "colab_type": "text"
      },
      "cell_type": "markdown",
      "source": [
        "### Building LSTM Classifier"
      ]
    },
    {
      "metadata": {
        "id": "jRW8jS88qXr2",
        "colab_type": "code",
        "colab": {}
      },
      "cell_type": "code",
      "source": [
        "model_lstm = Sequential()\n",
        "model_lstm.add(Embedding(vocabulary_size, 100, weights=[embedding_matrix], input_length=50))\n",
        "model_lstm.add(LSTM(100, dropout=0.2, recurrent_dropout=0.2))\n",
        "model_lstm.add(Dense(1, activation='sigmoid'))\n",
        "model_lstm.compile(loss='binary_crossentropy', optimizer='adam', metrics=['accuracy'])"
      ],
      "execution_count": 0,
      "outputs": []
    },
    {
      "metadata": {
        "id": "FNz_ItMtqm3c",
        "colab_type": "code",
        "colab": {
          "base_uri": "https://localhost:8080/",
          "height": 230
        },
        "outputId": "8c0d2c07-e7a6-49d7-d6f0-3c9519413dd2"
      },
      "cell_type": "code",
      "source": [
        "model_lstm.fit(X_train, np.array(y_train), validation_split=0.2, epochs=5)"
      ],
      "execution_count": 39,
      "outputs": [
        {
          "output_type": "stream",
          "text": [
            "Train on 127040 samples, validate on 31761 samples\n",
            "Epoch 1/5\n",
            "127040/127040 [==============================] - 586s 5ms/step - loss: 0.2086 - acc: 0.9203 - val_loss: 0.2828 - val_acc: 0.8912\n",
            "Epoch 2/5\n",
            "127040/127040 [==============================] - 587s 5ms/step - loss: 0.1956 - acc: 0.9249 - val_loss: 0.2891 - val_acc: 0.8912\n",
            "Epoch 3/5\n",
            "127040/127040 [==============================] - 579s 5ms/step - loss: 0.1838 - acc: 0.9300 - val_loss: 0.3019 - val_acc: 0.8875\n",
            "Epoch 4/5\n",
            "127040/127040 [==============================] - 598s 5ms/step - loss: 0.1745 - acc: 0.9344 - val_loss: 0.3171 - val_acc: 0.8878\n",
            "Epoch 5/5\n",
            "127040/127040 [==============================] - 597s 5ms/step - loss: 0.1656 - acc: 0.9373 - val_loss: 0.3235 - val_acc: 0.8866\n"
          ],
          "name": "stdout"
        },
        {
          "output_type": "execute_result",
          "data": {
            "text/plain": [
              "<keras.callbacks.History at 0x7fc1c0262e48>"
            ]
          },
          "metadata": {
            "tags": []
          },
          "execution_count": 39
        }
      ]
    },
    {
      "metadata": {
        "id": "EH8cBIM91me9",
        "colab_type": "code",
        "colab": {
          "base_uri": "https://localhost:8080/",
          "height": 34
        },
        "outputId": "25b968f2-c79c-4a3d-d1c5-f03d422dfcb4"
      },
      "cell_type": "code",
      "source": [
        "predictions = model_lstm.predict(X_test)\n",
        "predictions = predictions.reshape(-1)\n",
        "y_pred = [1 if(i > 0.5) else 0 for i in predictions]\n",
        "\n",
        "matrix = metrics.confusion_matrix(np.array(y_test), y_pred)\n",
        "tn, fp, fn, tp =  matrix.ravel()\n",
        "sensitivity = tp * 1.0 / (tp + fn) * 1.0  \n",
        "Precision = tp*1.0 / (tp+fp) *1.0  \n",
        "f1 = 2* ((Precision*sensitivity)/(Precision+sensitivity))  \n",
        "sensitivity, Precision, f1"
      ],
      "execution_count": 41,
      "outputs": [
        {
          "output_type": "execute_result",
          "data": {
            "text/plain": [
              "(0.9349868348340539, 0.9173337585712008, 0.9260761775974757)"
            ]
          },
          "metadata": {
            "tags": []
          },
          "execution_count": 41
        }
      ]
    },
    {
      "metadata": {
        "id": "W8kA4B3P2sx3",
        "colab_type": "text"
      },
      "cell_type": "markdown",
      "source": [
        "We observe the accuracy of the  model around 88.66% on validation set. However, Accuracy generally is not the best metric to look for, especially in classification of texts cases. As there can be cases where our data is biased to one of the classes and in that case even if the model is something which predicts just one output no matter of the input, we can achieve very high accuaracy. That would be disastrous. Thus we always look for Sensitivity (Recall) and Precision of our model, which says out of all the positives the model has predicted, how many are infact true, and out of the actual true cases, how many could my model predict  to be true respectively. Combining these two important scores is the F1 score and thus F1 forms to be the reliable metric to decide upon our classifier."
      ]
    },
    {
      "metadata": {
        "id": "Ftx27m77rsa_",
        "colab_type": "code",
        "colab": {}
      },
      "cell_type": "code",
      "source": [
        "from keras.models import load_model\n",
        "model_lstm.save('LSTM_model.h5')"
      ],
      "execution_count": 0,
      "outputs": []
    },
    {
      "metadata": {
        "id": "5PJTUUldl9vc",
        "colab_type": "text"
      },
      "cell_type": "markdown",
      "source": [
        "## Visualising word embeddings"
      ]
    },
    {
      "metadata": {
        "id": "tWRGK6ktgZN0",
        "colab_type": "text"
      },
      "cell_type": "markdown",
      "source": [
        "Visualizing randomly chosen 100 word vectors on feature space"
      ]
    },
    {
      "metadata": {
        "id": "55hyKGZqoxt8",
        "colab_type": "code",
        "colab": {
          "base_uri": "https://localhost:8080/",
          "height": 917
        },
        "outputId": "91ed6cfa-abae-4c00-8813-527526075a3b"
      },
      "cell_type": "code",
      "source": [
        "import random\n",
        "tsne_model = TSNE(perplexity=40, n_components=2, init='pca', n_iter=2500, random_state=23)\n",
        "new_values = tsne_model.fit_transform(embedding_matrix)\n",
        "x = []\n",
        "y = []\n",
        "for value in new_values:\n",
        "    x.append(value[0])\n",
        "    y.append(value[1])\n",
        "    \n",
        "plt.figure(figsize=(16, 16)) \n",
        "for j in range(100):\n",
        "  i = random.randint(1,len(x))\n",
        "  plt.scatter(x[i],y[i])\n",
        "  plt.annotate(list(tokenizer.word_index.keys())[i],\n",
        "               xy=(x[i], y[i]),\n",
        "               xytext=(5, 2),\n",
        "               textcoords='offset points',\n",
        "               ha='right',\n",
        "               va='bottom')\n",
        "plt.show()\n"
      ],
      "execution_count": 42,
      "outputs": [
        {
          "output_type": "display_data",
          "data": {
            "image/png": "[encoded data removed]",
            "text/plain": [
              "<Figure size 1152x1152 with 1 Axes>"
            ]
          },
          "metadata": {
            "tags": []
          }
        }
      ]
    }
  ]
}